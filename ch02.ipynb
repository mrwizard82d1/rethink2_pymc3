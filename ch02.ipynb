{
 "cells": [
  {
   "cell_type": "markdown",
   "id": "f778792e-c7e0-4da9-8644-f7d91452c75a",
   "metadata": {},
   "source": [
    "# Code from chapter 2 of \"Statistical Rethinking,\" 2nd edition."
   ]
  },
  {
   "cell_type": "code",
   "execution_count": null,
   "id": "f2a7bc27-6359-4baa-89aa-8567f4697f61",
   "metadata": {},
   "outputs": [],
   "source": [
    "import arviz as az\n",
    "import matplotlib.pyplot as plt\n",
    "import numpy as np\n",
    "import pymc3 as pm\n",
    "import scipy.stats as stats\n",
    "import seaborn as sns"
   ]
  },
  {
   "cell_type": "markdown",
   "id": "fed845c7-8aa7-49f9-81aa-b3ff166f2f82",
   "metadata": {},
   "source": [
    "## Computing plausibilities (R code 2.1)"
   ]
  },
  {
   "cell_type": "code",
   "execution_count": null,
   "id": "9d4f7fc4-91c6-4177-b3d8-0d5aa11dc3ea",
   "metadata": {},
   "outputs": [],
   "source": [
    "ways = np.array([0, 3, 8, 9, 0])\n",
    "ways / sum(ways)"
   ]
  },
  {
   "cell_type": "markdown",
   "id": "d47414d2-f194-45f2-ae07-0d0ff4677bd8",
   "metadata": {},
   "source": [
    "The plausibilities above are probabilities. They total to 1."
   ]
  },
  {
   "cell_type": "code",
   "execution_count": null,
   "id": "96eb7afe-552d-4a14-b01f-7028b9df7bfa",
   "metadata": {},
   "outputs": [],
   "source": [
    "sum(Out[2])"
   ]
  },
  {
   "cell_type": "markdown",
   "id": "28d5bf0b-9d64-4d3b-841a-710d0be740a0",
   "metadata": {},
   "source": [
    "The design loop for simple Bayesian models has three steps.\n",
    "\n",
    "1. Data story: Motivate the model by narrating **how** the data\n",
    "   might arise.\n",
    "2. Update: Educate the model by feeding it the (observed) data.\n",
    "3. Evaluate: All statistical models require supervision,\n",
    "   leading to model revision."
   ]
  },
  {
   "cell_type": "markdown",
   "id": "9f32b6f1-3343-44a8-9ec8-43cc54650e0c",
   "metadata": {},
   "source": [
    "In the globe case, the data story is simply a restatement of the\n",
    "sampling process.\n",
    "\n",
    "1. The true proportion of the water covering the globe is _p_.\n",
    "2. A single toss of the globe has a probability, _p_, of \n",
    "   producing a water (_W_) observation. It has a probability,\n",
    "   _1 - p_, of producing a land (_L_) observation.\n",
    "3. Each toss of the globe is independent of the others."
   ]
  },
  {
   "cell_type": "markdown",
   "id": "0fbfff0f-7d40-4489-9621-ba4b64229c0b",
   "metadata": {},
   "source": [
    "## Updating plausibilities in light of data (Figure 2.5)"
   ]
  },
  {
   "cell_type": "markdown",
   "id": "feecfc39-e926-4031-8b51-caff242387e1",
   "metadata": {},
   "source": [
    "Notice that each time a \"W\" is observed (a \"success\"), the \n",
    "plausibility peak moves to the right, and each time a \"L\" is\n",
    "observed (a \"failure\"), the plausibility peak moves to the left."
   ]
  },
  {
   "cell_type": "code",
   "execution_count": null,
   "id": "b3bfc226-c17c-4091-adfa-9edea2281c77",
   "metadata": {},
   "outputs": [],
   "source": [
    "data = ['W', 'L', 'W', 'W', 'W', 'L', 'W', 'L', 'W']"
   ]
  },
  {
   "cell_type": "code",
   "execution_count": null,
   "id": "ab49a9b0-6453-452e-8c67-e1c23b62ce5d",
   "metadata": {},
   "outputs": [],
   "source": [
    "fig, axes = plt.subplots(3, 3, figsize=(25.6, 14.4))\n",
    "# Begin with an \"indifferent\" prior\n",
    "prior_alpha, prior_beta = 1, 1\n",
    "posterior_alpha, posterior_beta = 1, 1  # a copy of the prior\n",
    "for i in range(len(axes)):\n",
    "    for j in range(len(axes[0])):\n",
    "        xs = np.linspace(stats.beta.ppf(0.01, prior_alpha, prior_beta),\n",
    "                         stats.beta.ppf(0.99, prior_alpha, prior_beta))\n",
    "        axes[i, j].plot(xs, stats.beta.pdf(xs, prior_alpha, prior_beta), '--', label='prior')\n",
    "        axes[i, j].legend()\n",
    "        axes[i, j].set_title(f'Observed {data[i * 3 + j]}')\n",
    "        if data[i * 3 + j] == 'W':\n",
    "            posterior_alpha += 1\n",
    "        else:\n",
    "            posterior_beta += 1\n",
    "        xs = np.linspace(stats.beta.ppf(0.01, posterior_alpha, posterior_beta),\n",
    "                         stats.beta.ppf(0.99, posterior_alpha, posterior_beta))\n",
    "        axes[i, j].plot(xs, stats.beta.pdf(xs, posterior_alpha, posterior_beta), '-', label='posterior')\n",
    "        axes[i, j].legend()\n",
    "        \n",
    "        prior_alpha, prior_beta = posterior_alpha, posterior_beta"
   ]
  },
  {
   "cell_type": "markdown",
   "id": "bd8c16a1-e380-40ef-958c-5a5d89527280",
   "metadata": {},
   "source": [
    "I could make other fixes, like consistent x and y limits, but\n",
    "I'm less certain the value of this effort right now."
   ]
  },
  {
   "cell_type": "markdown",
   "id": "21100c17-31f0-4e46-9cc7-2f30b2883b50",
   "metadata": {},
   "source": [
    "## Terminology"
   ]
  },
  {
   "cell_type": "markdown",
   "id": "3d21a10b-15d6-48f9-8500-8efe664706c8",
   "metadata": {},
   "source": [
    "\"Variables are just symbols that can take on different values.... In the globe\n",
    "tossing model there are three variables.\"\n",
    "\n",
    "The first variable, _p_, is an unobserved variable (a variable whose value \n",
    "is not **directly** measured as part of the experiment. Unobserved variables\n",
    "like _p_ are called **parameters**. Although _p_ is unobserved, its value\n",
    "(distribution) can be inferred.\n",
    "\n",
    "The other variables, _W_ and _L_ are **observed variables**. The modeling\n",
    "process uses a model and the observed variables to infer the unobserved\n",
    "parameters (of the model)."
   ]
  },
  {
   "cell_type": "markdown",
   "id": "c08a6b06-6dc3-40c0-8a84-c1cea2a154c9",
   "metadata": {},
   "source": [
    "For our model, once we utilize our assumptions that every toss is independent\n",
    "of any other toss and that the probability of _W_ (and _L_) is the same on\n",
    "every toss, we can calculate the probability of _W_ water observations and\n",
    "_L_ land observations based on the probability, _p_, of water on each toss.\n",
    "This calculation is based on a _binomial distribution_."
   ]
  },
  {
   "cell_type": "markdown",
   "id": "77395189-5f94-4462-b9fa-5e8a20714593",
   "metadata": {},
   "source": [
    "## Binomial distribution (R code 2.2)"
   ]
  },
  {
   "cell_type": "code",
   "execution_count": null,
   "id": "a653ddd6-3dcb-4d24-aac1-33d2b5381755",
   "metadata": {},
   "outputs": [],
   "source": [
    "# Parameters of the binomial discribution\n",
    "n = 9  # Total number of trials\n",
    "p = 0.5  # Probability of \"water\" in each trial"
   ]
  },
  {
   "cell_type": "code",
   "execution_count": null,
   "id": "6465068e-7791-4ac4-8f68-e42a837971e1",
   "metadata": {},
   "outputs": [],
   "source": [
    "stats.binom.pmf(6, n, p)"
   ]
  },
  {
   "cell_type": "code",
   "execution_count": null,
   "id": "20be85a8-8d1a-4d7e-b787-7fcc4c4a9c74",
   "metadata": {},
   "outputs": [],
   "source": [
    "xs = np.arange(stats.binom.ppf(0.01, n, p), stats.binom.ppf(0.99, n, p))\n",
    "fig, ax = plt.subplots(1, 1)\n",
    "ax.plot(xs, stats.binom.pmf(xs, n, p), 'bo', ms=8, label='Binomial PMF')\n",
    "ax.vlines(xs, 0, stats.binom.pmf(xs, n, p), colors='b', lw=5, alpha=0.5)\n",
    "ax.legend()\n",
    "plt.plot()"
   ]
  },
  {
   "cell_type": "markdown",
   "id": "cc148f06-d0a5-4904-b8eb-2b2fc7d29ff3",
   "metadata": {},
   "source": [
    "## Plotting the binomial (discrete) distribution for different values of p"
   ]
  },
  {
   "cell_type": "code",
   "execution_count": null,
   "id": "51982c2f-30a9-4654-9a5b-7f6bba83ca91",
   "metadata": {},
   "outputs": [],
   "source": [
    "fig, ax = plt.subplots(2, 5, sharey=True, figsize=(25.6, 9.6))\n",
    "for i, color in zip(np.arange(11), plt.rcParams['axes.prop_cycle']):\n",
    "    p = i / 10\n",
    "    xs = np.arange(1, 10 + 1)  # Indexing from 0 produces an anomalous graph for p = 0.0\n",
    "    ax[i // 5, i % 5].plot(xs, stats.binom.pmf(xs, n, p), color=color['color'], marker='o', ms=8)\n",
    "    ax[i // 5, i % 5].vlines(xs, 0, stats.binom.pmf(xs, n, p), colors=color['color'], lw=5, alpha=0.5)\n",
    "    ax[i // 5, i % 5].set_title(f'p = {p}')\n",
    "plt.plot()"
   ]
  },
  {
   "cell_type": "markdown",
   "id": "da867e2c-f70f-42b4-ad05-6b45654b44d4",
   "metadata": {},
   "source": [
    "## Grid approximation"
   ]
  },
  {
   "cell_type": "markdown",
   "id": "2b28e02b-6381-4d51-b482-e91a8389398b",
   "metadata": {},
   "source": [
    "Here's the recipe for grid estimation:\n",
    "\n",
    "1. Define the grid\n",
    "2. Compute the value of the prior at each grid point\n",
    "3. Compute the likelihood of the data at each grid point\n",
    "4. Compute the product of the prior value and the likelihood for each grid point\n",
    "5. Normalize each product by dividing each product by the sum of **all** the products"
   ]
  },
  {
   "cell_type": "code",
   "execution_count": null,
   "id": "12aca5e5-6c6a-4aeb-879e-fbf2cdd7df2a",
   "metadata": {},
   "outputs": [],
   "source": [
    "# Generate a linear grid of 20 points between 0 and 1, inclusive.\n",
    "# Numpy optionally allows one to **exclude** the endpoint (1).\n",
    "grid = np.linspace(0, 1, num=20)"
   ]
  },
  {
   "cell_type": "code",
   "execution_count": null,
   "id": "3bb4f7ed-8820-4df3-8e8e-f39776a3905f",
   "metadata": {},
   "outputs": [],
   "source": [
    "# Prior values are uniformly distributed\n",
    "prior = np.repeat(1, 20)"
   ]
  },
  {
   "cell_type": "code",
   "execution_count": null,
   "id": "8d2e3757-ecd1-4b1a-85b5-1461b6b217b6",
   "metadata": {},
   "outputs": [],
   "source": [
    "# The likelihoods are distributed binomially for 6 waters in 9 tosses.\n",
    "# I expect the following code to work, but it does not. I must understand\n",
    "# this error further. Instead of producing the array of likelihoods at\n",
    "# each grid point, it produces an array of 20 `NaN` values. See \n",
    "# the section on \"Frozen distributions\" of `scipy-stats.ipynb` for\n",
    "# what seems to be the explanation. I still do not quite understand\n",
    "# what's going on, but I think its time for me to move on.\n",
    "likelihood_rv = stats.binom(6, 9)  # A frozen distribution\n",
    "likelihood = likelihood_rv.pmf(grid)\n",
    "likelihood"
   ]
  },
  {
   "cell_type": "code",
   "execution_count": null,
   "id": "e7af1451-709c-4965-8923-998250c5a65a",
   "metadata": {},
   "outputs": [],
   "source": [
    "# The likelihoods are distributed binomially for 6 waters in 9 tosses.\n",
    "# We sample this distribution at each grid point\n",
    "likelihood = stats.binom.pmf(6, 9, grid)\n",
    "likelihood"
   ]
  },
  {
   "cell_type": "code",
   "execution_count": null,
   "id": "4554c5e5-28d0-42c4-b71b-25f8bf245b92",
   "metadata": {},
   "outputs": [],
   "source": [
    "# At each grid point, multiply the prior and the likelihood\n",
    "products = prior * likelihood\n",
    "products"
   ]
  },
  {
   "cell_type": "code",
   "execution_count": null,
   "id": "c93c2087-ed43-4d2c-90d7-87eb6a555404",
   "metadata": {},
   "outputs": [],
   "source": []
  }
 ],
 "metadata": {
  "kernelspec": {
   "display_name": "Python 3 (ipykernel)",
   "language": "python",
   "name": "python3"
  },
  "language_info": {
   "codemirror_mode": {
    "name": "ipython",
    "version": 3
   },
   "file_extension": ".py",
   "mimetype": "text/x-python",
   "name": "python",
   "nbconvert_exporter": "python",
   "pygments_lexer": "ipython3",
   "version": "3.9.7"
  }
 },
 "nbformat": 4,
 "nbformat_minor": 5
}
