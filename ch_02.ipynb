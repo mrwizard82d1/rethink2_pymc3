{
 "cells": [
  {
   "cell_type": "markdown",
   "id": "f778792e-c7e0-4da9-8644-f7d91452c75a",
   "metadata": {},
   "source": [
    "# Code from chapter 2 of \"Statistical Rethinking,\" 2nd edition."
   ]
  },
  {
   "cell_type": "code",
   "execution_count": null,
   "id": "f2a7bc27-6359-4baa-89aa-8567f4697f61",
   "metadata": {},
   "outputs": [],
   "source": [
    "import arviz as az\n",
    "import matplotlib.pyplot as plt\n",
    "import numpy as np\n",
    "import pymc3 as pm\n",
    "import scipy.stats as stats\n",
    "import seaborn as sns"
   ]
  },
  {
   "cell_type": "markdown",
   "id": "fed845c7-8aa7-49f9-81aa-b3ff166f2f82",
   "metadata": {},
   "source": [
    "## Computing plausibilities (R code 2.1)"
   ]
  },
  {
   "cell_type": "code",
   "execution_count": null,
   "id": "9d4f7fc4-91c6-4177-b3d8-0d5aa11dc3ea",
   "metadata": {},
   "outputs": [],
   "source": [
    "ways = np.array([0, 3, 8, 9, 0])\n",
    "ways / sum(ways)"
   ]
  },
  {
   "cell_type": "markdown",
   "id": "d47414d2-f194-45f2-ae07-0d0ff4677bd8",
   "metadata": {},
   "source": [
    "The plausibilities above are probabilities. They total to 1."
   ]
  },
  {
   "cell_type": "code",
   "execution_count": null,
   "id": "96eb7afe-552d-4a14-b01f-7028b9df7bfa",
   "metadata": {},
   "outputs": [],
   "source": [
    "sum(Out[2])"
   ]
  },
  {
   "cell_type": "markdown",
   "id": "28d5bf0b-9d64-4d3b-841a-710d0be740a0",
   "metadata": {},
   "source": [
    "The design loop for simple Bayesian models has three steps.\n",
    "\n",
    "1. Data story: Motivate the model by narrating **how** the data\n",
    "   might arise.\n",
    "2. Update: Educate the model by feeding it the (observed) data.\n",
    "3. Evaluate: All statistical models require supervision,\n",
    "   leading to model revision."
   ]
  },
  {
   "cell_type": "markdown",
   "id": "9f32b6f1-3343-44a8-9ec8-43cc54650e0c",
   "metadata": {},
   "source": [
    "In the globe case, the data story is simply a restatement of the\n",
    "sampling process.\n",
    "\n",
    "1. The true proportion of the water covering the globe is _p_.\n",
    "2. A single toss of the globe has a probability, _p_, of \n",
    "   producing a water (_W_) observation. It has a probability,\n",
    "   _1 - p_, of producing a land (_L_) observation.\n",
    "3. Each toss of the globe is independent of the others."
   ]
  },
  {
   "cell_type": "code",
   "execution_count": null,
   "id": "b3bfc226-c17c-4091-adfa-9edea2281c77",
   "metadata": {},
   "outputs": [],
   "source": [
    "data = ['W', 'L', 'W', 'W', 'W', 'L', 'W', 'L', 'W']"
   ]
  },
  {
   "cell_type": "code",
   "execution_count": null,
   "id": "ab49a9b0-6453-452e-8c67-e1c23b62ce5d",
   "metadata": {},
   "outputs": [],
   "source": [
    "fig, axes = plt.subplots(3, 3, sharex=True)\n",
    "prior_alpha, prior_beta = 0, 0\n",
    "posterior_alpha, posterior_beta = 0, 0\n",
    "for i in range(len(axes)):\n",
    "    for j in range(len(axes[0])):\n",
    "        xs = np.linspace(stats.beta.ppf(0.01, prior_alpha, prior_beta),\n",
    "                         stats.beta.ppf(0.99, prior_alpha, prior_beta))\n",
    "        axes[i, j].plot(xs, stats.beta.pdf(xs, prior_alpha, prior_beta), '--')\n",
    "        axes[i, j].set_title(f'{i}, {j}')\n",
    "        if data[i * 3 + j] == 'W':\n",
    "            posterior_alpha += 1\n",
    "        else:\n",
    "            posterior_beta += 1\n",
    "        axes[i, j].plot(xs, stats.beta.pdf(xs, posterior_alpha, posterior_beta), '--')\n",
    "        \n",
    "        prior_alpha, prior_beta = posterior_alpha, posterior_beta"
   ]
  },
  {
   "cell_type": "code",
   "execution_count": null,
   "id": "f5e0aa49-e57d-4030-8735-bf715466ae11",
   "metadata": {},
   "outputs": [],
   "source": []
  },
  {
   "cell_type": "code",
   "execution_count": null,
   "id": "e2c182bc-b153-4c3e-99f5-fe62ad837666",
   "metadata": {},
   "outputs": [],
   "source": []
  }
 ],
 "metadata": {
  "kernelspec": {
   "display_name": "Python 3 (ipykernel)",
   "language": "python",
   "name": "python3"
  },
  "language_info": {
   "codemirror_mode": {
    "name": "ipython",
    "version": 3
   },
   "file_extension": ".py",
   "mimetype": "text/x-python",
   "name": "python",
   "nbconvert_exporter": "python",
   "pygments_lexer": "ipython3",
   "version": "3.9.7"
  }
 },
 "nbformat": 4,
 "nbformat_minor": 5
}
