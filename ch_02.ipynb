{
 "cells": [
  {
   "cell_type": "markdown",
   "id": "f778792e-c7e0-4da9-8644-f7d91452c75a",
   "metadata": {},
   "source": [
    "# Code from chapter 2 of \"Statistical Rethinking,\" 2nd edition."
   ]
  },
  {
   "cell_type": "code",
   "execution_count": null,
   "id": "f2a7bc27-6359-4baa-89aa-8567f4697f61",
   "metadata": {},
   "outputs": [],
   "source": [
    "import arviz as az\n",
    "import matplotlib.pyplot as plt\n",
    "import numpy as np\n",
    "import pymc3 as pm\n",
    "import scipy.stats as stats\n",
    "import seaborn as sns"
   ]
  },
  {
   "cell_type": "markdown",
   "id": "fed845c7-8aa7-49f9-81aa-b3ff166f2f82",
   "metadata": {},
   "source": [
    "## Computing plausibilities (R code 2.1)"
   ]
  },
  {
   "cell_type": "code",
   "execution_count": null,
   "id": "9d4f7fc4-91c6-4177-b3d8-0d5aa11dc3ea",
   "metadata": {},
   "outputs": [],
   "source": [
    "ways = np.array([0, 3, 8, 9, 0])\n",
    "ways / sum(ways)"
   ]
  },
  {
   "cell_type": "markdown",
   "id": "d47414d2-f194-45f2-ae07-0d0ff4677bd8",
   "metadata": {},
   "source": [
    "The plausibilities above are probabilities. They total to 1."
   ]
  },
  {
   "cell_type": "code",
   "execution_count": null,
   "id": "96eb7afe-552d-4a14-b01f-7028b9df7bfa",
   "metadata": {},
   "outputs": [],
   "source": [
    "sum(Out[2])"
   ]
  },
  {
   "cell_type": "markdown",
   "id": "28d5bf0b-9d64-4d3b-841a-710d0be740a0",
   "metadata": {},
   "source": [
    "The design loop for simple Bayesian models has three steps.\n",
    "\n",
    "1. Data story: Motivate the model by narrating **how** the data\n",
    "   might arise.\n",
    "2. Update: Educate the model by feeding it the (observed) data.\n",
    "3. Evaluate: All statistical models require supervision,\n",
    "   leading to model revision."
   ]
  },
  {
   "cell_type": "markdown",
   "id": "9f32b6f1-3343-44a8-9ec8-43cc54650e0c",
   "metadata": {},
   "source": [
    "In the globe case, the data story is simply a restatement of the\n",
    "sampling process.\n",
    "\n",
    "1. The true proportion of the water covering the globe is _p_.\n",
    "2. A single toss of the globe has a probability, _p_, of \n",
    "   producing a water (_W_) observation. It has a probability,\n",
    "   _1 - p_, of producing a land (_L_) observation.\n",
    "3. Each toss of the globe is independent of the others."
   ]
  },
  {
   "cell_type": "markdown",
   "id": "0fbfff0f-7d40-4489-9621-ba4b64229c0b",
   "metadata": {},
   "source": [
    "## Updating plausibilities in light of data (Figure 2.5)"
   ]
  },
  {
   "cell_type": "markdown",
   "id": "feecfc39-e926-4031-8b51-caff242387e1",
   "metadata": {},
   "source": [
    "Notice that each time a \"W\" is observed (a \"success\"), the \n",
    "plausibility peak moves to the right, and each time a \"L\" is\n",
    "observed (a \"failure\"), the plausibility peak moves to the left."
   ]
  },
  {
   "cell_type": "code",
   "execution_count": null,
   "id": "b3bfc226-c17c-4091-adfa-9edea2281c77",
   "metadata": {},
   "outputs": [],
   "source": [
    "data = ['W', 'L', 'W', 'W', 'W', 'L', 'W', 'L', 'W']"
   ]
  },
  {
   "cell_type": "code",
   "execution_count": null,
   "id": "ab49a9b0-6453-452e-8c67-e1c23b62ce5d",
   "metadata": {},
   "outputs": [],
   "source": [
    "fig, axes = plt.subplots(3, 3, figsize=(25.6, 14.4))\n",
    "# Begin with an \"indifferent\" prior\n",
    "prior_alpha, prior_beta = 1, 1\n",
    "posterior_alpha, posterior_beta = 1, 1  # a copy of the prior\n",
    "for i in range(len(axes)):\n",
    "    for j in range(len(axes[0])):\n",
    "        xs = np.linspace(stats.beta.ppf(0.01, prior_alpha, prior_beta),\n",
    "                         stats.beta.ppf(0.99, prior_alpha, prior_beta))\n",
    "        axes[i, j].plot(xs, stats.beta.pdf(xs, prior_alpha, prior_beta), '--', label='prior')\n",
    "        axes[i, j].legend()\n",
    "        axes[i, j].set_title(f'Observed {data[i * 3 + j]}')\n",
    "        if data[i * 3 + j] == 'W':\n",
    "            posterior_alpha += 1\n",
    "        else:\n",
    "            posterior_beta += 1\n",
    "        xs = np.linspace(stats.beta.ppf(0.01, posterior_alpha, posterior_beta),\n",
    "                         stats.beta.ppf(0.99, posterior_alpha, posterior_beta))\n",
    "        axes[i, j].plot(xs, stats.beta.pdf(xs, posterior_alpha, posterior_beta), '-', label='posterior')\n",
    "        axes[i, j].legend()\n",
    "        \n",
    "        prior_alpha, prior_beta = posterior_alpha, posterior_beta"
   ]
  },
  {
   "cell_type": "markdown",
   "id": "bd8c16a1-e380-40ef-958c-5a5d89527280",
   "metadata": {},
   "source": [
    "I could make other fixes, like consistent x and y limits, but\n",
    "I'm less certain the value of this effort right now."
   ]
  },
  {
   "cell_type": "markdown",
   "id": "21100c17-31f0-4e46-9cc7-2f30b2883b50",
   "metadata": {},
   "source": [
    "## Terminology"
   ]
  },
  {
   "cell_type": "markdown",
   "id": "3d21a10b-15d6-48f9-8500-8efe664706c8",
   "metadata": {},
   "source": [
    "\"Variables are just symbols that can take on different values.... In the globe\n",
    "tossing model there are three variables.\"\n",
    "\n",
    "The first variable, _p_, is an unobserved variable (a variable whose value \n",
    "is not **directly** measured as part of the experiment. Unobserved variables\n",
    "like _p_ are called **parameters**. Although _p_ is unobserved, its value\n",
    "(distribution) can be inferred.\n",
    "\n",
    "The other variables, _W_ and _L_ are **observed variables**. The modeling\n",
    "process uses a model and the observed variables to infer the unobserved\n",
    "parameters (of the model)."
   ]
  },
  {
   "cell_type": "markdown",
   "id": "c08a6b06-6dc3-40c0-8a84-c1cea2a154c9",
   "metadata": {},
   "source": [
    "For our model, once we utilize our assumptions that every toss is independent\n",
    "of any other toss and that the probability of _W_ (and _L_) is the same on\n",
    "every toss, we can calculate the probability of _W_ water observations and\n",
    "_L_ land observations based on the probability, _p_, of water on each toss.\n",
    "This calculation is based on a _binomial distribution_."
   ]
  },
  {
   "cell_type": "code",
   "execution_count": null,
   "id": "e2c182bc-b153-4c3e-99f5-fe62ad837666",
   "metadata": {},
   "outputs": [],
   "source": [
    "n = 9\n",
    "p = 0.5\n",
    "xs = np.arange(stats.binom.ppf(0.01, n, p), stats.binom.ppf(0.99, n, p))\n",
    "fig, ax = plt.subplots(1, 1)\n",
    "ax.plot(xs, stats.binom.pmf(xs, n, p), 'bo', ms=8, label='Binomial PMF')\n",
    "ax.vlines(xs, 0, stats.binom.pmf(xs, n, p), colors='b', lw=5, alpha=0.5)\n",
    "ax.legend()\n",
    "plt.plot()"
   ]
  },
  {
   "cell_type": "markdown",
   "id": "9e0c7ce7-64a6-46c1-b13f-f5914bd523d4",
   "metadata": {},
   "source": [
    "Learning about discrete distributions:\n",
    "- Create a custom discrete distribution with a mapping between `xk` and `pk`\n",
    "- Use the `pmf` method to access values in the custom distribution"
   ]
  },
  {
   "cell_type": "code",
   "execution_count": null,
   "id": "33310759-da82-4e3f-832f-441d867ac719",
   "metadata": {},
   "outputs": [],
   "source": [
    "xk = np.arange(7)\n",
    "pk = [0.1, 0.2, 0.3, 0.1, 0.1, 0.0, 0.2]\n",
    "custm = stats.rv_discrete('custm', values=(xk, pk))\n",
    "custm.pmf(xk)"
   ]
  },
  {
   "cell_type": "markdown",
   "id": "f46f9201-57f5-49eb-aef7-1b3eee360807",
   "metadata": {},
   "source": [
    "Querying the distribution at a value that is not in the distribution domain\n",
    "returns 0."
   ]
  },
  {
   "cell_type": "code",
   "execution_count": null,
   "id": "887514dc-3837-4ebf-96bc-1c6e1c19124d",
   "metadata": {},
   "outputs": [],
   "source": [
    "custm.pmf(1.5)"
   ]
  },
  {
   "cell_type": "markdown",
   "id": "78d91e3b-ab19-46bb-bb85-68092df559e9",
   "metadata": {},
   "source": [
    "Plot all the values of the custom distribution."
   ]
  },
  {
   "cell_type": "code",
   "execution_count": null,
   "id": "f9c97f46-e0fc-4aec-94e7-d1a3d44f9f17",
   "metadata": {},
   "outputs": [],
   "source": [
    "fig, ax = plt.subplots(1, 1)\n",
    "ax.plot(xk, custm.pmf(xk), 'ro', ms=12, mec='g')  # ms - marker size; mec - marker edge color\n",
    "ax.vlines(xk, 0, custm.pmf(xk), colors='r', lw=4)  # lw - line width\n",
    "plt.show()"
   ]
  },
  {
   "cell_type": "code",
   "execution_count": null,
   "id": "cd2770b3-c0d4-48cd-b011-3b49368b3d15",
   "metadata": {},
   "outputs": [],
   "source": []
  }
 ],
 "metadata": {
  "kernelspec": {
   "display_name": "Python 3 (ipykernel)",
   "language": "python",
   "name": "python3"
  },
  "language_info": {
   "codemirror_mode": {
    "name": "ipython",
    "version": 3
   },
   "file_extension": ".py",
   "mimetype": "text/x-python",
   "name": "python",
   "nbconvert_exporter": "python",
   "pygments_lexer": "ipython3",
   "version": "3.9.7"
  }
 },
 "nbformat": 4,
 "nbformat_minor": 5
}
