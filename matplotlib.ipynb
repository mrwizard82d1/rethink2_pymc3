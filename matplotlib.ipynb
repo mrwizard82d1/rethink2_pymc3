{
 "cells": [
  {
   "cell_type": "markdown",
   "id": "f778792e-c7e0-4da9-8644-f7d91452c75a",
   "metadata": {},
   "source": [
    "# Learning about Matplotlib"
   ]
  },
  {
   "cell_type": "code",
   "execution_count": null,
   "id": "04ee0a66-5155-4ee7-b64f-b53c61f94a21",
   "metadata": {},
   "outputs": [],
   "source": [
    "import arviz as az\n",
    "import matplotlib.pyplot as plt\n",
    "import numpy as np\n",
    "# Uncomment next import if necessary\n",
    "# import pymc3 as pm\n",
    "import scipy.stats as stats\n",
    "import seaborn as sns"
   ]
  },
  {
   "cell_type": "markdown",
   "id": "b47a5713-b8c0-42f2-8890-1cecfffd3e59",
   "metadata": {},
   "source": [
    "## Color cyles\n",
    "\n",
    "Note that the default behavior was changed in Matplotlib 3.5.1. See \n",
    "[the document](https://matplotlib.org/3.5.1/users/prev_whats_new/dflt_style_changes.html#colors-in-default-property-cycle)\n",
    "for details."
   ]
  },
  {
   "cell_type": "code",
   "execution_count": null,
   "id": "493f2464-d38f-4fcd-a917-c701033e6d51",
   "metadata": {},
   "outputs": [],
   "source": [
    "xs = np.arange(10)\n",
    "fig, ax = plt.subplots(1, 1, figsize=(8.8, 4.8))\n",
    "for i, color in zip(range(1, 10 + 1), plt.rcParams['axes.prop_cycle']):\n",
    "    ys = np.repeat(i, len(xs))\n",
    "    plt.plot(xs, ys, label=color['color'])\n",
    "ax.legend()"
   ]
  },
  {
   "cell_type": "code",
   "execution_count": null,
   "id": "db5aa3a2-8a37-4b24-aac8-6f51292ec926",
   "metadata": {},
   "outputs": [],
   "source": [
    "plt.rcParams['axes.prop_cycle']"
   ]
  },
  {
   "cell_type": "code",
   "execution_count": null,
   "id": "b938d894-1997-4ef8-835e-5553c49dd441",
   "metadata": {},
   "outputs": [],
   "source": []
  }
 ],
 "metadata": {
  "kernelspec": {
   "display_name": "Python 3 (ipykernel)",
   "language": "python",
   "name": "python3"
  },
  "language_info": {
   "codemirror_mode": {
    "name": "ipython",
    "version": 3
   },
   "file_extension": ".py",
   "mimetype": "text/x-python",
   "name": "python",
   "nbconvert_exporter": "python",
   "pygments_lexer": "ipython3",
   "version": "3.9.7"
  }
 },
 "nbformat": 4,
 "nbformat_minor": 5
}
