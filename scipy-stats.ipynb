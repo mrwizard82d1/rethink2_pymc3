{
 "cells": [
  {
   "cell_type": "markdown",
   "id": "f778792e-c7e0-4da9-8644-f7d91452c75a",
   "metadata": {},
   "source": [
    "# Learning about scipy (especially scipy.stats)"
   ]
  },
  {
   "cell_type": "code",
   "execution_count": null,
   "id": "f2a7bc27-6359-4baa-89aa-8567f4697f61",
   "metadata": {},
   "outputs": [],
   "source": [
    "import arviz as az\n",
    "import matplotlib.pyplot as plt\n",
    "import numpy as np\n",
    "# Uncomment import if needed\n",
    "# import pymc3 as pm\n",
    "import scipy.stats as stats\n",
    "import seaborn as sns"
   ]
  },
  {
   "cell_type": "markdown",
   "id": "9a9051f7-eeb0-4733-997a-77608922ff09",
   "metadata": {},
   "source": [
    "## Frozen distributions"
   ]
  },
  {
   "cell_type": "code",
   "execution_count": null,
   "id": "0294bd42-a00d-4076-b78e-6092d320b738",
   "metadata": {},
   "outputs": [],
   "source": [
    "n = 9\n",
    "p = 0.5\n",
    "rv = stats.binom(n, p)  # Returns a \"frozen\" distribution (fixed parameters)\n",
    "rv.pmf(6)"
   ]
  },
  {
   "cell_type": "code",
   "execution_count": null,
   "id": "4c8b7d13-3008-4f54-8f75-64a085cbfe4b",
   "metadata": {},
   "outputs": [],
   "source": [
    "# The `ppf` method computes the specified \"quantile\" (the first argument)\n",
    "# of the (binomial) distribution characterized by `n` total tosses with\n",
    "# `p` successes (water)\n",
    "xs = np.linspace(stats.binom.ppf(0.01, n, p), stats.binom.ppf(0.99, n, p))\n",
    "xs"
   ]
  },
  {
   "cell_type": "code",
   "execution_count": null,
   "id": "0f657dc7-ef8c-4633-b098-4223ebf97543",
   "metadata": {},
   "outputs": [],
   "source": [
    "# Notice the difference, the `ppf` method computes \"quantiles\" (percentages)\n",
    "# and so expects a value between 0 and 1. The `pmf` samples the distribution\n",
    "# thereby requiring a value in the range (0, n]. (Remember the origin of\n",
    "# the binomial distribution: successes and failures. The domain of the\n",
    "# distribution must then be the minimum number of successes to the maximum\n",
    "# number of successes. In our case, from 0 to 9.)\n",
    "xs = range(n + 1)\n",
    "xs"
   ]
  },
  {
   "cell_type": "code",
   "execution_count": null,
   "id": "7528d03b-1b33-4cbe-bd7e-063e99dc1639",
   "metadata": {},
   "outputs": [],
   "source": [
    "rv.pmf(xs)"
   ]
  },
  {
   "cell_type": "markdown",
   "id": "1c568d7b-7e33-44b2-991c-bf4be8818456",
   "metadata": {},
   "source": [
    "## Custom (discrete) distributions"
   ]
  },
  {
   "cell_type": "markdown",
   "id": "2973a01f-3f9b-4b63-b715-c9e133550683",
   "metadata": {},
   "source": [
    "- Create a custom discrete distribution with a mapping between `xk` and `pk`\n",
    "- Use the `pmf` method to access values in the custom distribution"
   ]
  },
  {
   "cell_type": "code",
   "execution_count": null,
   "id": "33310759-da82-4e3f-832f-441d867ac719",
   "metadata": {},
   "outputs": [],
   "source": [
    "xk = np.arange(7)\n",
    "pk = [0.1, 0.2, 0.3, 0.1, 0.1, 0.0, 0.2]\n",
    "custm = stats.rv_discrete('custm', values=(xk, pk))\n",
    "custm.pmf(xk)"
   ]
  },
  {
   "cell_type": "markdown",
   "id": "f46f9201-57f5-49eb-aef7-1b3eee360807",
   "metadata": {},
   "source": [
    "Querying the distribution at a value that is not in the distribution domain\n",
    "returns 0."
   ]
  },
  {
   "cell_type": "code",
   "execution_count": null,
   "id": "887514dc-3837-4ebf-96bc-1c6e1c19124d",
   "metadata": {},
   "outputs": [],
   "source": [
    "custm.pmf(1.5)"
   ]
  },
  {
   "cell_type": "markdown",
   "id": "78d91e3b-ab19-46bb-bb85-68092df559e9",
   "metadata": {},
   "source": [
    "Plot all the values of the custom distribution."
   ]
  },
  {
   "cell_type": "code",
   "execution_count": null,
   "id": "f9c97f46-e0fc-4aec-94e7-d1a3d44f9f17",
   "metadata": {},
   "outputs": [],
   "source": [
    "fig, ax = plt.subplots(1, 1)\n",
    "ax.plot(xk, custm.pmf(xk), 'ro', ms=12, mec='g')  # ms - marker size; mec - marker edge color\n",
    "ax.vlines(xk, 0, custm.pmf(xk), colors='r', lw=4)  # lw - line width\n",
    "plt.show()"
   ]
  },
  {
   "cell_type": "markdown",
   "id": "cc148f06-d0a5-4904-b8eb-2b2fc7d29ff3",
   "metadata": {},
   "source": [
    "## Plotting the binomial (discrete) distribution for different values of p"
   ]
  },
  {
   "cell_type": "markdown",
   "id": "72381aa1-1efc-4190-a477-21201e7bbed5",
   "metadata": {},
   "source": [
    "Copied from `ch02.ipynb`"
   ]
  },
  {
   "cell_type": "code",
   "execution_count": null,
   "id": "51982c2f-30a9-4654-9a5b-7f6bba83ca91",
   "metadata": {},
   "outputs": [],
   "source": [
    "fig, ax = plt.subplots(2, 5, sharey=True, figsize=(25.6, 9.6))\n",
    "for i, color in zip(np.arange(11), plt.rcParams['axes.prop_cycle']):\n",
    "    p = i / 10\n",
    "    xs = np.arange(1, 10 + 1)  # Indexing from 0 produces an anomalous graph for p = 0.0\n",
    "    ax[i // 5, i % 5].plot(xs, stats.binom.pmf(xs, n, p), color=color['color'], marker='o', ms=8)\n",
    "    ax[i // 5, i % 5].vlines(xs, 0, stats.binom.pmf(xs, n, p), colors=color['color'], lw=5, alpha=0.5)\n",
    "    ax[i // 5, i % 5].set_title(f'p = {p}')\n",
    "plt.plot()"
   ]
  },
  {
   "cell_type": "code",
   "execution_count": null,
   "id": "2ace3939-0cea-42e5-836f-7a448fde66c2",
   "metadata": {},
   "outputs": [],
   "source": []
  }
 ],
 "metadata": {
  "kernelspec": {
   "display_name": "Python 3 (ipykernel)",
   "language": "python",
   "name": "python3"
  },
  "language_info": {
   "codemirror_mode": {
    "name": "ipython",
    "version": 3
   },
   "file_extension": ".py",
   "mimetype": "text/x-python",
   "name": "python",
   "nbconvert_exporter": "python",
   "pygments_lexer": "ipython3",
   "version": "3.9.7"
  }
 },
 "nbformat": 4,
 "nbformat_minor": 5
}
